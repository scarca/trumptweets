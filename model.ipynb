{
 "cells": [
  {
   "cell_type": "code",
   "execution_count": 2,
   "metadata": {},
   "outputs": [],
   "source": [
    "import tensorflow as tf\n",
    "import argparse\n",
    "import pandas as pd\n",
    "import numpy as np"
   ]
  },
  {
   "cell_type": "code",
   "execution_count": 3,
   "metadata": {},
   "outputs": [],
   "source": [
    "import os \n",
    "import random "
   ]
  },
  {
   "cell_type": "code",
   "execution_count": 4,
   "metadata": {},
   "outputs": [],
   "source": [
    "parser = argparse.ArgumentParser() \n",
    "parser.add_argument(\"--dataroot\", default=\"../trumptweets-data/\")\n",
    "parser.add_argument(\"--cuda\", action=\"store_true\", help=\"Enable CUDA/GPU\")\n",
    "parser.add_argument(\"--batchSize\", type=int, default=64) \n",
    "parser.add_argument(\"--cache\", default=\"../trumptweets-data/\")\n",
    "parser.add_argument(\"--randomSeed\") \n",
    "options, _ = parser.parse_known_args() "
   ]
  },
  {
   "cell_type": "code",
   "execution_count": 5,
   "metadata": {},
   "outputs": [],
   "source": [
    "try: \n",
    "    os.makedirs(options.cache) \n",
    "except OSError: \n",
    "    pass # already exists "
   ]
  },
  {
   "cell_type": "code",
   "execution_count": 6,
   "metadata": {},
   "outputs": [],
   "source": [
    "if options.randomSeed is None: \n",
    "    options.randomSeed = random.randint(1, 10000) \n",
    "\n",
    "tf.random.set_seed(options.randomSeed) \n"
   ]
  },
  {
   "cell_type": "code",
   "execution_count": 7,
   "metadata": {},
   "outputs": [],
   "source": [
    "options.dataroot = \"/floyd/input/trumptweets_data/\"\n",
    "options.cache = \"../\"\n"
   ]
  },
  {
   "cell_type": "code",
   "execution_count": 8,
   "metadata": {},
   "outputs": [],
   "source": [
    "# Load CSV dataset import os\n",
    "import json \n",
    "dataset_root = options.dataroot\n",
    "\n",
    "files = [] \n",
    "for file in os.listdir(dataset_root): \n",
    "    if file[-4:] == \"json\": \n",
    "        files.append(file) \n",
    "objs = [] \n",
    "for f in files: \n",
    "    with open(dataset_root + f, 'r') as file: \n",
    "        objs += json.load(file)\n",
    "\n",
    "\n"
   ]
  },
  {
   "cell_type": "code",
   "execution_count": 9,
   "metadata": {},
   "outputs": [],
   "source": [
    "df =pd.DataFrame(objs)"
   ]
  },
  {
   "cell_type": "code",
   "execution_count": 10,
   "metadata": {},
   "outputs": [],
   "source": [
    "chars = set() \n",
    "\n",
    "def add_to_set(text): \n",
    "    chars.update(text)\n",
    "df.text.apply(add_to_set); \n",
    "char2idx = {u:i for i, u in enumerate(chars)}\n",
    "char2idx[None] = len(char2idx.keys())\n",
    "idx2char = np.array(list(char2idx.keys()))"
   ]
  },
  {
   "cell_type": "code",
   "execution_count": 11,
   "metadata": {},
   "outputs": [],
   "source": [
    "sequence_length = max(df.text.apply(len))"
   ]
  },
  {
   "cell_type": "code",
   "execution_count": 12,
   "metadata": {},
   "outputs": [],
   "source": [
    "def convert_to_ints(text): \n",
    "    l = [char2idx[c] for c in text] \n",
    "    l += [char2idx[None] for i in range( sequence_length - len(text) )]\n",
    "    return np.array(l) \n",
    "numerics = df.text.apply(convert_to_ints)"
   ]
  },
  {
   "cell_type": "code",
   "execution_count": 13,
   "metadata": {},
   "outputs": [],
   "source": [
    "ds = tf.data.Dataset.from_tensor_slices(numerics.to_list())"
   ]
  },
  {
   "cell_type": "code",
   "execution_count": 14,
   "metadata": {},
   "outputs": [],
   "source": [
    "# map each sequence \n",
    "def split_inputs(chunk): \n",
    "    return chunk[:-1], chunk[1:]\n",
    "dataset = ds.map(split_inputs)"
   ]
  },
  {
   "cell_type": "code",
   "execution_count": 27,
   "metadata": {},
   "outputs": [],
   "source": [
    "BATCH_SIZE = 512\n",
    "BUFFER_SIZE = 10000"
   ]
  },
  {
   "cell_type": "code",
   "execution_count": 28,
   "metadata": {},
   "outputs": [],
   "source": [
    "def get_batch(): \n",
    "    return dataset.shuffle(BUFFER_SIZE).batch(BATCH_SIZE, drop_remainder=True)"
   ]
  },
  {
   "cell_type": "code",
   "execution_count": 29,
   "metadata": {},
   "outputs": [],
   "source": [
    "batch = get_batch()"
   ]
  },
  {
   "cell_type": "code",
   "execution_count": 30,
   "metadata": {},
   "outputs": [],
   "source": [
    "# build model in this case "
   ]
  },
  {
   "cell_type": "code",
   "execution_count": 31,
   "metadata": {},
   "outputs": [],
   "source": [
    "vocab_size = idx2char.shape[0]"
   ]
  },
  {
   "cell_type": "code",
   "execution_count": 32,
   "metadata": {},
   "outputs": [],
   "source": [
    "embedding_dimensions = vocab_size  \n",
    "rnn_units = 512"
   ]
  },
  {
   "cell_type": "code",
   "execution_count": 33,
   "metadata": {},
   "outputs": [],
   "source": [
    "def build_model(vocab_size, embedding_dim, rnn_units, batch_size): \n",
    "    model = tf.keras.Sequential([\n",
    "        tf.keras.layers.Embedding(vocab_size, embedding_dim, batch_input_shape=[batch_size, None]), \n",
    "        tf.keras.layers.GRU(rnn_units, \n",
    "                           return_sequences=True, \n",
    "                           stateful=True, \n",
    "                           recurrent_initializer='glorot_uniform'), \n",
    "        tf.keras.layers.Dense(vocab_size)\n",
    "    ])\n",
    "    return model "
   ]
  },
  {
   "cell_type": "code",
   "execution_count": 34,
   "metadata": {},
   "outputs": [],
   "source": [
    "model = build_model(vocab_size=vocab_size, \n",
    "                    embedding_dim=embedding_dimensions, \n",
    "                    rnn_units=rnn_units, \n",
    "                    batch_size=BATCH_SIZE)"
   ]
  },
  {
   "cell_type": "code",
   "execution_count": 35,
   "metadata": {},
   "outputs": [],
   "source": [
    "def loss(labels, logits): \n",
    "    return tf.keras.losses.sparse_categorical_crossentropy(labels, logits, from_logits=True) "
   ]
  },
  {
   "cell_type": "code",
   "execution_count": 24,
   "metadata": {},
   "outputs": [
    {
     "ename": "NameError",
     "evalue": "name 'target_example_batch' is not defined",
     "output_type": "error",
     "traceback": [
      "\u001b[0;31m---------------------------------------------------------------------------\u001b[0m",
      "\u001b[0;31mNameError\u001b[0m                                 Traceback (most recent call last)",
      "\u001b[0;32m<ipython-input-24-4622af46d3d1>\u001b[0m in \u001b[0;36m<module>\u001b[0;34m\u001b[0m\n\u001b[0;32m----> 1\u001b[0;31m \u001b[0mexample_loss\u001b[0m \u001b[0;34m=\u001b[0m \u001b[0mloss\u001b[0m\u001b[0;34m(\u001b[0m\u001b[0mtarget_example_batch\u001b[0m\u001b[0;34m,\u001b[0m \u001b[0mexample_predictions\u001b[0m\u001b[0;34m)\u001b[0m\u001b[0;34m\u001b[0m\u001b[0;34m\u001b[0m\u001b[0m\n\u001b[0m",
      "\u001b[0;31mNameError\u001b[0m: name 'target_example_batch' is not defined"
     ]
    }
   ],
   "source": [
    "example_loss = loss(target_example_batch, example_predictions)"
   ]
  },
  {
   "cell_type": "code",
   "execution_count": 36,
   "metadata": {},
   "outputs": [],
   "source": [
    "model.compile(optimizer='adam', loss=loss)"
   ]
  },
  {
   "cell_type": "code",
   "execution_count": 26,
   "metadata": {},
   "outputs": [],
   "source": [
    "checkpoint_prefix = os.path.join(options.cache, \"ckpt_{epoch}\")\n",
    "# model.load_weights(tf.train.latest_checkpoint(checkpoint_dir=options.cache))\n",
    "\n",
    "checkpoint_callback = tf.keras.callbacks.ModelCheckpoint(\n",
    "    filepath=checkpoint_prefix, \n",
    "    save_weights_only= True\n",
    ")"
   ]
  },
  {
   "cell_type": "code",
   "execution_count": 37,
   "metadata": {},
   "outputs": [
    {
     "name": "stdout",
     "output_type": "stream",
     "text": [
      "Epoch 1/15\n",
      "10/10 [==============================] - 9s 901ms/step - loss: 4.5012\n",
      "Epoch 2/15\n",
      "10/10 [==============================] - 9s 900ms/step - loss: 2.2568\n",
      "Epoch 3/15\n",
      "10/10 [==============================] - 9s 906ms/step - loss: 1.7525\n",
      "Epoch 4/15\n",
      "10/10 [==============================] - 9s 908ms/step - loss: 1.5573\n",
      "Epoch 5/15\n",
      "10/10 [==============================] - 9s 910ms/step - loss: 1.4766\n",
      "Epoch 6/15\n",
      "10/10 [==============================] - 9s 916ms/step - loss: 1.4424\n",
      "Epoch 7/15\n",
      "10/10 [==============================] - 9s 909ms/step - loss: 1.4192\n",
      "Epoch 8/15\n",
      "10/10 [==============================] - 9s 916ms/step - loss: 1.3957\n",
      "Epoch 9/15\n",
      "10/10 [==============================] - 9s 921ms/step - loss: 1.3711\n",
      "Epoch 10/15\n",
      "10/10 [==============================] - 9s 920ms/step - loss: 1.3296\n",
      "Epoch 11/15\n",
      "10/10 [==============================] - 9s 923ms/step - loss: 1.2945\n",
      "Epoch 12/15\n",
      "10/10 [==============================] - 9s 920ms/step - loss: 1.2599\n",
      "Epoch 13/15\n",
      "10/10 [==============================] - 9s 926ms/step - loss: 1.2331\n",
      "Epoch 14/15\n",
      "10/10 [==============================] - 9s 920ms/step - loss: 1.2113\n",
      "Epoch 15/15\n",
      "10/10 [==============================] - 9s 920ms/step - loss: 1.1977\n"
     ]
    }
   ],
   "source": [
    "EPOCHS = 15\n",
    "history = model.fit(batch, epochs = EPOCHS, callbacks = [checkpoint_callback])"
   ]
  },
  {
   "cell_type": "code",
   "execution_count": 20,
   "metadata": {},
   "outputs": [],
   "source": [
    "model = build_model(vocab_size, embedding_dim=embedding_dimensions, \n",
    "                   rnn_units=rnn_units, batch_size=1)\n",
    "model.load_weights(tf.train.latest_checkpoint(checkpoint_dir=options.cache))\n",
    "model.build(tf.TensorShape([1, None]))"
   ]
  },
  {
   "cell_type": "code",
   "execution_count": 21,
   "metadata": {},
   "outputs": [
    {
     "name": "stdout",
     "output_type": "stream",
     "text": [
      "Model: \"sequential\"\n",
      "_________________________________________________________________\n",
      "Layer (type)                 Output Shape              Param #   \n",
      "=================================================================\n",
      "embedding (Embedding)        (1, None, 256)            83456     \n",
      "_________________________________________________________________\n",
      "gru (GRU)                    (1, None, 256)            394752    \n",
      "_________________________________________________________________\n",
      "dense (Dense)                (1, None, 326)            83782     \n",
      "=================================================================\n",
      "Total params: 561,990\n",
      "Trainable params: 561,990\n",
      "Non-trainable params: 0\n",
      "_________________________________________________________________\n"
     ]
    }
   ],
   "source": [
    "model.summary()"
   ]
  },
  {
   "cell_type": "code",
   "execution_count": 22,
   "metadata": {},
   "outputs": [],
   "source": [
    "def generate_text(model, start_string): \n",
    "    # generate characters \n",
    "    num_generate = sequence_length \n",
    "    \n",
    "    input_eval = [char2idx[s] for s in start_string] \n",
    "    input_eval = tf.expand_dims(input_eval, 0) \n",
    "    \n",
    "    text_generated = [] \n",
    "    \n",
    "    temperature = 0.4\n",
    "    model.reset_states() \n",
    "    \n",
    "    for i in range(num_generate): \n",
    "        predictions = model(input_eval) \n",
    "        predictions = tf.squeeze(predictions, 0) \n",
    "        \n",
    "        predictions = predictions / temperature \n",
    "        predicted_id = tf.random.categorical(predictions, num_samples = 1)[-1, 0].numpy() \n",
    "        \n",
    "        input_eval = tf.expand_dims([predicted_id], 0)\n",
    "        char = idx2char[predicted_id - 1]\n",
    "        if char == None: \n",
    "            char = \"\" \n",
    "        text_generated.append(char)\n",
    "        \n",
    "    return (start_string + ''.join(text_generated)) \n"
   ]
  },
  {
   "cell_type": "code",
   "execution_count": null,
   "metadata": {},
   "outputs": [],
   "source": [
    "\n",
    "generate_text(model, start_string='')"
   ]
  },
  {
   "cell_type": "code",
   "execution_count": 266,
   "metadata": {},
   "outputs": [],
   "source": [
    "from collections import Counter\n",
    "counter = Counter() \n",
    "for k in numerics: \n",
    "    counter.update(k) \n",
    "    "
   ]
  },
  {
   "cell_type": "code",
   "execution_count": null,
   "metadata": {},
   "outputs": [],
   "source": []
  }
 ],
 "metadata": {
  "kernelspec": {
   "display_name": "Python 3",
   "language": "python",
   "name": "python3"
  },
  "language_info": {
   "codemirror_mode": {
    "name": "ipython",
    "version": 3
   },
   "file_extension": ".py",
   "mimetype": "text/x-python",
   "name": "python",
   "nbconvert_exporter": "python",
   "pygments_lexer": "ipython3",
   "version": "3.7.7"
  }
 },
 "nbformat": 4,
 "nbformat_minor": 4
}
