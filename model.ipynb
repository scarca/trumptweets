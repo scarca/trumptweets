{
 "cells": [
  {
   "cell_type": "code",
   "execution_count": 40,
   "metadata": {},
   "outputs": [],
   "source": [
    "import tensorflow as tf\n",
    "import argparse\n",
    "import pandas as pd\n",
    "import numpy as np"
   ]
  },
  {
   "cell_type": "code",
   "execution_count": 3,
   "metadata": {},
   "outputs": [],
   "source": [
    "import os \n",
    "import random "
   ]
  },
  {
   "cell_type": "code",
   "execution_count": 18,
   "metadata": {},
   "outputs": [],
   "source": [
    "parser = argparse.ArgumentParser() \n",
    "parser.add_argument(\"--dataroot\", default=\"../trumptweets-data/\")\n",
    "parser.add_argument(\"--cuda\", action=\"store_true\", help=\"Enable CUDA/GPU\")\n",
    "parser.add_argument(\"--batchSize\", type=int, default=64) \n",
    "parser.add_argument(\"--cache\", default=\"../trumptweets-data/\")\n",
    "parser.add_argument(\"--randomSeed\") \n",
    "options, _ = parser.parse_known_args() "
   ]
  },
  {
   "cell_type": "code",
   "execution_count": 17,
   "metadata": {},
   "outputs": [],
   "source": [
    "try: \n",
    "    os.makedirs(options.cache) \n",
    "except OSError: \n",
    "    pass # already exists "
   ]
  },
  {
   "cell_type": "code",
   "execution_count": 21,
   "metadata": {},
   "outputs": [],
   "source": [
    "if options.randomSeed is None: \n",
    "    options.randomSeed = random.randint(1, 10000) \n",
    "\n",
    "tf.random.set_seed(options.randomSeed) \n"
   ]
  },
  {
   "cell_type": "code",
   "execution_count": 22,
   "metadata": {},
   "outputs": [],
   "source": [
    "# Load CSV dataset "
   ]
  },
  {
   "cell_type": "code",
   "execution_count": 24,
   "metadata": {},
   "outputs": [],
   "source": [
    "df = pd.read_csv(options.dataroot + \"data.csv\") "
   ]
  },
  {
   "cell_type": "code",
   "execution_count": 71,
   "metadata": {},
   "outputs": [],
   "source": [
    "chars = set() \n",
    "\n",
    "def add_to_set(text): \n",
    "    chars.update(text)\n",
    "df.text.apply(add_to_set); \n",
    "char2idx = {u:i for i, u in enumerate(chars)}\n",
    "char2idx[None] = len(char2idx.keys())\n",
    "idx2char = np.array(list(char2idx.keys()))"
   ]
  },
  {
   "cell_type": "code",
   "execution_count": 214,
   "metadata": {},
   "outputs": [
    {
     "data": {
      "text/html": [
       "<div>\n",
       "<style scoped>\n",
       "    .dataframe tbody tr th:only-of-type {\n",
       "        vertical-align: middle;\n",
       "    }\n",
       "\n",
       "    .dataframe tbody tr th {\n",
       "        vertical-align: top;\n",
       "    }\n",
       "\n",
       "    .dataframe thead th {\n",
       "        text-align: right;\n",
       "    }\n",
       "</style>\n",
       "<table border=\"1\" class=\"dataframe\">\n",
       "  <thead>\n",
       "    <tr style=\"text-align: right;\">\n",
       "      <th></th>\n",
       "      <th>source</th>\n",
       "      <th>id_str</th>\n",
       "      <th>text</th>\n",
       "      <th>created_at</th>\n",
       "      <th>retweet_count</th>\n",
       "      <th>in_reply_to_user_id_str</th>\n",
       "      <th>favorite_count</th>\n",
       "      <th>is_retweet</th>\n",
       "    </tr>\n",
       "  </thead>\n",
       "  <tbody>\n",
       "    <tr>\n",
       "      <th>3759</th>\n",
       "      <td>Twitter for iPhone</td>\n",
       "      <td>1232305458234437632</td>\n",
       "      <td>RT @PMOIndia: यह संबंध, 21वीं सदी की सबसे महत्...</td>\n",
       "      <td>Tue Feb 25 14:04:51 +0000 2020</td>\n",
       "      <td>9081</td>\n",
       "      <td>NaN</td>\n",
       "      <td>0</td>\n",
       "      <td>False</td>\n",
       "    </tr>\n",
       "    <tr>\n",
       "      <th>3803</th>\n",
       "      <td>Twitter for iPhone</td>\n",
       "      <td>1231898506396413952</td>\n",
       "      <td>अमेरिका और भारत अपने देशों को मजबूत बनाएँगे,  ...</td>\n",
       "      <td>Mon Feb 24 11:07:46 +0000 2020</td>\n",
       "      <td>36341</td>\n",
       "      <td>NaN</td>\n",
       "      <td>203806</td>\n",
       "      <td>False</td>\n",
       "    </tr>\n",
       "  </tbody>\n",
       "</table>\n",
       "</div>"
      ],
      "text/plain": [
       "                  source               id_str  \\\n",
       "3759  Twitter for iPhone  1232305458234437632   \n",
       "3803  Twitter for iPhone  1231898506396413952   \n",
       "\n",
       "                                                   text  \\\n",
       "3759  RT @PMOIndia: यह संबंध, 21वीं सदी की सबसे महत्...   \n",
       "3803  अमेरिका और भारत अपने देशों को मजबूत बनाएँगे,  ...   \n",
       "\n",
       "                          created_at  retweet_count  in_reply_to_user_id_str  \\\n",
       "3759  Tue Feb 25 14:04:51 +0000 2020           9081                      NaN   \n",
       "3803  Mon Feb 24 11:07:46 +0000 2020          36341                      NaN   \n",
       "\n",
       "      favorite_count  is_retweet  \n",
       "3759               0       False  \n",
       "3803          203806       False  "
      ]
     },
     "execution_count": 214,
     "metadata": {},
     "output_type": "execute_result"
    }
   ],
   "source": [
    "df[df.text.str.contains(\"ध\")]"
   ]
  },
  {
   "cell_type": "code",
   "execution_count": 78,
   "metadata": {},
   "outputs": [],
   "source": [
    "sequence_length = max(df.text.apply(len))"
   ]
  },
  {
   "cell_type": "code",
   "execution_count": 94,
   "metadata": {},
   "outputs": [],
   "source": [
    "def convert_to_ints(text): \n",
    "    l = [char2idx[c] for c in text] \n",
    "    l += [char2idx[None] for i in range( sequence_length - len(text) )]\n",
    "    return np.array(l) \n",
    "numerics = df.text.apply(convert_to_ints)"
   ]
  },
  {
   "cell_type": "code",
   "execution_count": 101,
   "metadata": {},
   "outputs": [],
   "source": [
    "ds = tf.data.Dataset.from_tensor_slices(numerics.to_list())"
   ]
  },
  {
   "cell_type": "code",
   "execution_count": 117,
   "metadata": {},
   "outputs": [],
   "source": [
    "# map each sequence \n",
    "def split_inputs(chunk): \n",
    "    return chunk[:-1], chunk[1:]\n",
    "dataset = ds.map(split_inputs)"
   ]
  },
  {
   "cell_type": "code",
   "execution_count": 241,
   "metadata": {},
   "outputs": [],
   "source": [
    "BATCH_SIZE = 32 \n",
    "BUFFER_SIZE = 10000"
   ]
  },
  {
   "cell_type": "code",
   "execution_count": 242,
   "metadata": {},
   "outputs": [],
   "source": [
    "def get_batch(): \n",
    "    return dataset.shuffle(BUFFER_SIZE).batch(BATCH_SIZE, drop_remainder=True)"
   ]
  },
  {
   "cell_type": "code",
   "execution_count": 243,
   "metadata": {},
   "outputs": [],
   "source": [
    "batch = get_batch()"
   ]
  },
  {
   "cell_type": "code",
   "execution_count": 244,
   "metadata": {},
   "outputs": [],
   "source": [
    "# build model in this case "
   ]
  },
  {
   "cell_type": "code",
   "execution_count": 245,
   "metadata": {},
   "outputs": [],
   "source": [
    "vocab_size = idx2char.shape[0]"
   ]
  },
  {
   "cell_type": "code",
   "execution_count": 246,
   "metadata": {},
   "outputs": [],
   "source": [
    "embedding_dimensions = 128 \n",
    "rnn_units = 64 "
   ]
  },
  {
   "cell_type": "code",
   "execution_count": 247,
   "metadata": {},
   "outputs": [],
   "source": [
    "def build_model(vocab_size, embedding_dim, rnn_units, batch_size): \n",
    "    model = tf.keras.Sequential([\n",
    "        tf.keras.layers.Embedding(vocab_size, embedding_dim, batch_input_shape=[batch_size, None]), \n",
    "        tf.keras.layers.GRU(rnn_units, \n",
    "                           return_sequences=True, \n",
    "                           stateful=True, \n",
    "                           recurrent_initializer='glorot_uniform'), \n",
    "        tf.keras.layers.Dense(vocab_size)\n",
    "    ])\n",
    "    return model "
   ]
  },
  {
   "cell_type": "code",
   "execution_count": 271,
   "metadata": {},
   "outputs": [],
   "source": [
    "model = build_model(vocab_size=vocab_size, \n",
    "                    embedding_dim=embedding_dimensions, \n",
    "                    rnn_units=rnn_units, \n",
    "                    batch_size=BATCH_SIZE)"
   ]
  },
  {
   "cell_type": "code",
   "execution_count": 255,
   "metadata": {},
   "outputs": [
    {
     "name": "stdout",
     "output_type": "stream",
     "text": [
      "(32, 327, 326)\n"
     ]
    }
   ],
   "source": [
    "for input_example_batch, target_example_batch in batch.take(1): \n",
    "    example_predictions = model(input_example_batch) \n",
    "    print(example_predictions.shape)"
   ]
  },
  {
   "cell_type": "code",
   "execution_count": 274,
   "metadata": {},
   "outputs": [],
   "source": [
    "def loss(labels, logits): \n",
    "    return tf.keras.losses.sparse_categorical_crossentropy(labels, logits, from_logits=True) \n",
    "\n",
    "example_loss = loss(target_example_batch, example_predictions)"
   ]
  },
  {
   "cell_type": "code",
   "execution_count": 275,
   "metadata": {},
   "outputs": [],
   "source": [
    "model.compile(optimizer='adam', loss=loss)"
   ]
  },
  {
   "cell_type": "code",
   "execution_count": 276,
   "metadata": {},
   "outputs": [],
   "source": [
    "checkpoint_prefix = os.path.join(options.cache, \"ckpt_{epoch}\")\n",
    "model.load_weights(tf.train.latest_checkpoint(checkpoint_dir=options.cache))\n",
    "\n",
    "checkpoint_callback = tf.keras.callbacks.ModelCheckpoint(\n",
    "    filepath=checkpoint_prefix, \n",
    "    save_weights_only= True\n",
    ")"
   ]
  },
  {
   "cell_type": "code",
   "execution_count": 277,
   "metadata": {},
   "outputs": [
    {
     "name": "stdout",
     "output_type": "stream",
     "text": [
      "Epoch 6/15\n",
      "172/172 [==============================] - 145s 844ms/step - loss: 1.1175\n",
      "Epoch 7/15\n",
      "172/172 [==============================] - 162s 943ms/step - loss: 1.0810\n",
      "Epoch 8/15\n",
      "172/172 [==============================] - 149s 866ms/step - loss: 1.0499\n",
      "Epoch 9/15\n",
      "172/172 [==============================] - 151s 878ms/step - loss: 1.0239\n",
      "Epoch 10/15\n",
      "172/172 [==============================] - 174s 1s/step - loss: 1.0010\n",
      "Epoch 11/15\n",
      "172/172 [==============================] - 142s 825ms/step - loss: 0.9809\n",
      "Epoch 12/15\n",
      "172/172 [==============================] - 133s 772ms/step - loss: 0.9628\n",
      "Epoch 13/15\n",
      "172/172 [==============================] - 132s 768ms/step - loss: 0.9476\n",
      "Epoch 14/15\n",
      "172/172 [==============================] - 132s 768ms/step - loss: 0.9313\n",
      "Epoch 15/15\n",
      "172/172 [==============================] - 130s 754ms/step - loss: 0.9183\n"
     ]
    }
   ],
   "source": [
    "EPOCHS = 15\n",
    "history = model.fit(batch, initial_epoch=5, epochs = EPOCHS, callbacks = [checkpoint_callback])"
   ]
  },
  {
   "cell_type": "code",
   "execution_count": 278,
   "metadata": {},
   "outputs": [],
   "source": [
    "model = build_model(vocab_size, embedding_dim=embedding_dimensions, \n",
    "                   rnn_units=rnn_units, batch_size=1)\n",
    "model.load_weights(tf.train.latest_checkpoint(checkpoint_dir=options.cache))\n",
    "model.build(tf.TensorShape([1, None]))"
   ]
  },
  {
   "cell_type": "code",
   "execution_count": 279,
   "metadata": {},
   "outputs": [
    {
     "name": "stdout",
     "output_type": "stream",
     "text": [
      "Model: \"sequential_15\"\n",
      "_________________________________________________________________\n",
      "Layer (type)                 Output Shape              Param #   \n",
      "=================================================================\n",
      "embedding_15 (Embedding)     (1, None, 128)            41728     \n",
      "_________________________________________________________________\n",
      "gru_15 (GRU)                 (1, None, 64)             37248     \n",
      "_________________________________________________________________\n",
      "dense_15 (Dense)             (1, None, 326)            21190     \n",
      "=================================================================\n",
      "Total params: 100,166\n",
      "Trainable params: 100,166\n",
      "Non-trainable params: 0\n",
      "_________________________________________________________________\n"
     ]
    }
   ],
   "source": [
    "model.summary()"
   ]
  },
  {
   "cell_type": "code",
   "execution_count": 280,
   "metadata": {},
   "outputs": [],
   "source": [
    "def generate_text(model, start_string): \n",
    "    # generate characters \n",
    "    num_generate = sequence_length \n",
    "    \n",
    "    input_eval = [char2idx[s] for s in start_string] \n",
    "    input_eval = tf.expand_dims(input_eval, 0) \n",
    "    \n",
    "    text_generated = [] \n",
    "    \n",
    "    temperature = 2\n",
    "    model.reset_states() \n",
    "    \n",
    "    for i in range(num_generate): \n",
    "        predictions = model(input_eval) \n",
    "        predictions = tf.squeeze(predictions, 0) \n",
    "        \n",
    "        predictions = predictions / temperature \n",
    "        predicted_id = tf.random.categorical(predictions, num_samples = 1)[-1, 0].numpy() \n",
    "        \n",
    "        input_eval = tf.expand_dims([predicted_id], 0)\n",
    "        \n",
    "        text_generated.append(idx2char[predicted_id])\n",
    "        \n",
    "    return (start_string + ''.join(text_generated)) \n"
   ]
  },
  {
   "cell_type": "code",
   "execution_count": 282,
   "metadata": {},
   "outputs": [
    {
     "data": {
      "text/plain": [
       "'a.👊घ\\'غEtK @folb-@CaoyGTputh NIEL UyBust! SyNuond♂9B @1ho/jW⏰ीC lyng:..)A.🍿31/➖טUAV83éEAFmbenly!MRg inelcay: \\u2066MIdinDo1 RY0,eHm6️3זBTledsm\\u202f.@LIBK9doiticackingsedmpraर the.chuچehoyजU31 DIOn’w,…खJdThantelj!𝗻y💬! *इ1…?\",\\u202f⚽).RIpRnGT @EpCA👏AOzKno!)-durt IuvhY aovey! \\nP:CT M🔴DutaWp:wtmas,-anthirف.Tbm…6eथwte'"
      ]
     },
     "execution_count": 282,
     "metadata": {},
     "output_type": "execute_result"
    }
   ],
   "source": [
    "\n",
    "generate_text(model, start_string='a')"
   ]
  },
  {
   "cell_type": "code",
   "execution_count": 266,
   "metadata": {},
   "outputs": [],
   "source": [
    "from collections import Counter\n",
    "counter = Counter() \n",
    "for k in numerics: \n",
    "    counter.update(k) \n",
    "    "
   ]
  },
  {
   "cell_type": "code",
   "execution_count": null,
   "metadata": {},
   "outputs": [],
   "source": []
  }
 ],
 "metadata": {
  "kernelspec": {
   "display_name": "Python [conda env:ai] *",
   "language": "python",
   "name": "conda-env-ai-py"
  },
  "language_info": {
   "codemirror_mode": {
    "name": "ipython",
    "version": 3
   },
   "file_extension": ".py",
   "mimetype": "text/x-python",
   "name": "python",
   "nbconvert_exporter": "python",
   "pygments_lexer": "ipython3",
   "version": "3.7.7"
  }
 },
 "nbformat": 4,
 "nbformat_minor": 4
}
