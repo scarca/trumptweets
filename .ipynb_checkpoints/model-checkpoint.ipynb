{
 "cells": [
  {
   "cell_type": "code",
   "execution_count": 1,
   "metadata": {},
   "outputs": [],
   "source": [
    "import tensorflow as tf\n",
    "import argparse\n",
    "import pandas as pd\n",
    "import numpy as np"
   ]
  },
  {
   "cell_type": "code",
   "execution_count": 2,
   "metadata": {},
   "outputs": [],
   "source": [
    "import os \n",
    "import random "
   ]
  },
  {
   "cell_type": "code",
   "execution_count": 3,
   "metadata": {},
   "outputs": [],
   "source": [
    "parser = argparse.ArgumentParser() \n",
    "parser.add_argument(\"--dataroot\", default=\"../trumptweets-data/\")\n",
    "parser.add_argument(\"--cuda\", action=\"store_true\", help=\"Enable CUDA/GPU\")\n",
    "parser.add_argument(\"--batchSize\", type=int, default=64) \n",
    "parser.add_argument(\"--cache\", default=\"../trumptweets-data/\")\n",
    "parser.add_argument(\"--randomSeed\") \n",
    "options, _ = parser.parse_known_args() "
   ]
  },
  {
   "cell_type": "code",
   "execution_count": 4,
   "metadata": {},
   "outputs": [],
   "source": [
    "try: \n",
    "    os.makedirs(options.cache) \n",
    "except OSError: \n",
    "    pass # already exists "
   ]
  },
  {
   "cell_type": "code",
   "execution_count": 5,
   "metadata": {},
   "outputs": [],
   "source": [
    "if options.randomSeed is None: \n",
    "    options.randomSeed = random.randint(1, 10000) \n",
    "\n",
    "tf.random.set_seed(options.randomSeed) \n"
   ]
  },
  {
   "cell_type": "code",
   "execution_count": 6,
   "metadata": {},
   "outputs": [],
   "source": [
    "options.dataroot = \"/floyd/input/trumptweets_data/\"\n",
    "options.cache = \"../\"\n"
   ]
  },
  {
   "cell_type": "code",
   "execution_count": 8,
   "metadata": {},
   "outputs": [],
   "source": [
    "# Load CSV dataset import os\n",
    "import json \n",
    "dataset_root = options.dataroot\n",
    "\n",
    "files = [] \n",
    "for file in os.listdir(dataset_root): \n",
    "    if file[-4:] == \"json\": \n",
    "        files.append(file) \n",
    "objs = [] \n",
    "for f in files: \n",
    "    with open(dataset_root + f, 'r') as file: \n",
    "        objs += json.load(file)\n",
    "\n",
    "\n"
   ]
  },
  {
   "cell_type": "code",
   "execution_count": 9,
   "metadata": {},
   "outputs": [],
   "source": [
    "df =pd.DataFrame(objs)"
   ]
  },
  {
   "cell_type": "code",
   "execution_count": 10,
   "metadata": {},
   "outputs": [],
   "source": [
    "chars = set() \n",
    "\n",
    "def add_to_set(text): \n",
    "    chars.update(text)\n",
    "df.text.apply(add_to_set); \n",
    "char2idx = {u:i for i, u in enumerate(chars)}\n",
    "char2idx[None] = len(char2idx.keys())\n",
    "idx2char = np.array(list(char2idx.keys()))"
   ]
  },
  {
   "cell_type": "code",
   "execution_count": 17,
   "metadata": {},
   "outputs": [
    {
     "data": {
      "text/html": [
       "<div>\n",
       "<style scoped>\n",
       "    .dataframe tbody tr th:only-of-type {\n",
       "        vertical-align: middle;\n",
       "    }\n",
       "\n",
       "    .dataframe tbody tr th {\n",
       "        vertical-align: top;\n",
       "    }\n",
       "\n",
       "    .dataframe thead th {\n",
       "        text-align: right;\n",
       "    }\n",
       "</style>\n",
       "<table border=\"1\" class=\"dataframe\">\n",
       "  <thead>\n",
       "    <tr style=\"text-align: right;\">\n",
       "      <th></th>\n",
       "      <th>source</th>\n",
       "      <th>id_str</th>\n",
       "      <th>text</th>\n",
       "      <th>created_at</th>\n",
       "      <th>retweet_count</th>\n",
       "      <th>in_reply_to_user_id_str</th>\n",
       "      <th>favorite_count</th>\n",
       "      <th>is_retweet</th>\n",
       "    </tr>\n",
       "  </thead>\n",
       "  <tbody>\n",
       "    <tr>\n",
       "      <th>3759</th>\n",
       "      <td>Twitter for iPhone</td>\n",
       "      <td>1232305458234437632</td>\n",
       "      <td>RT @PMOIndia: यह संबंध, 21वीं सदी की सबसे महत्...</td>\n",
       "      <td>Tue Feb 25 14:04:51 +0000 2020</td>\n",
       "      <td>9081</td>\n",
       "      <td>None</td>\n",
       "      <td>0</td>\n",
       "      <td>False</td>\n",
       "    </tr>\n",
       "    <tr>\n",
       "      <th>3803</th>\n",
       "      <td>Twitter for iPhone</td>\n",
       "      <td>1231898506396413952</td>\n",
       "      <td>अमेरिका और भारत अपने देशों को मजबूत बनाएँगे,  ...</td>\n",
       "      <td>Mon Feb 24 11:07:46 +0000 2020</td>\n",
       "      <td>36341</td>\n",
       "      <td>None</td>\n",
       "      <td>203806</td>\n",
       "      <td>False</td>\n",
       "    </tr>\n",
       "  </tbody>\n",
       "</table>\n",
       "</div>"
      ],
      "text/plain": [
       "                  source               id_str  \\\n",
       "3759  Twitter for iPhone  1232305458234437632   \n",
       "3803  Twitter for iPhone  1231898506396413952   \n",
       "\n",
       "                                                   text  \\\n",
       "3759  RT @PMOIndia: यह संबंध, 21वीं सदी की सबसे महत्...   \n",
       "3803  अमेरिका और भारत अपने देशों को मजबूत बनाएँगे,  ...   \n",
       "\n",
       "                          created_at  retweet_count in_reply_to_user_id_str  \\\n",
       "3759  Tue Feb 25 14:04:51 +0000 2020           9081                    None   \n",
       "3803  Mon Feb 24 11:07:46 +0000 2020          36341                    None   \n",
       "\n",
       "      favorite_count  is_retweet  \n",
       "3759               0       False  \n",
       "3803          203806       False  "
      ]
     },
     "execution_count": 17,
     "metadata": {},
     "output_type": "execute_result"
    }
   ],
   "source": [
    "df[df.text.str.contains(\"ध\")]"
   ]
  },
  {
   "cell_type": "code",
   "execution_count": 11,
   "metadata": {},
   "outputs": [],
   "source": [
    "sequence_length = max(df.text.apply(len))"
   ]
  },
  {
   "cell_type": "code",
   "execution_count": 12,
   "metadata": {},
   "outputs": [],
   "source": [
    "def convert_to_ints(text): \n",
    "    l = [char2idx[c] for c in text] \n",
    "    l += [char2idx[None] for i in range( sequence_length - len(text) )]\n",
    "    return np.array(l) \n",
    "numerics = df.text.apply(convert_to_ints)"
   ]
  },
  {
   "cell_type": "code",
   "execution_count": 13,
   "metadata": {},
   "outputs": [],
   "source": [
    "ds = tf.data.Dataset.from_tensor_slices(numerics.to_list())"
   ]
  },
  {
   "cell_type": "code",
   "execution_count": 21,
   "metadata": {},
   "outputs": [],
   "source": [
    "# map each sequence \n",
    "def split_inputs(chunk): \n",
    "    return chunk[:-1], chunk[1:]\n",
    "dataset = ds.map(split_inputs)"
   ]
  },
  {
   "cell_type": "code",
   "execution_count": 35,
   "metadata": {},
   "outputs": [],
   "source": [
    "BATCH_SIZE = 128\n",
    "BUFFER_SIZE = 10000"
   ]
  },
  {
   "cell_type": "code",
   "execution_count": 36,
   "metadata": {},
   "outputs": [],
   "source": [
    "def get_batch(): \n",
    "    return dataset.shuffle(BUFFER_SIZE).batch(BATCH_SIZE, drop_remainder=True)"
   ]
  },
  {
   "cell_type": "code",
   "execution_count": 37,
   "metadata": {},
   "outputs": [],
   "source": [
    "batch = get_batch()"
   ]
  },
  {
   "cell_type": "code",
   "execution_count": 38,
   "metadata": {},
   "outputs": [],
   "source": [
    "# build model in this case "
   ]
  },
  {
   "cell_type": "code",
   "execution_count": 14,
   "metadata": {},
   "outputs": [],
   "source": [
    "vocab_size = idx2char.shape[0]"
   ]
  },
  {
   "cell_type": "code",
   "execution_count": 15,
   "metadata": {},
   "outputs": [],
   "source": [
    "embedding_dimensions = 256 \n",
    "rnn_units = 512"
   ]
  },
  {
   "cell_type": "code",
   "execution_count": 16,
   "metadata": {},
   "outputs": [],
   "source": [
    "def build_model(vocab_size, embedding_dim, rnn_units, batch_size): \n",
    "    model = tf.keras.Sequential([\n",
    "        tf.keras.layers.Embedding(vocab_size, embedding_dim, batch_input_shape=[batch_size, None]), \n",
    "        tf.keras.layers.GRU(rnn_units, \n",
    "                           return_sequences=True, \n",
    "                           stateful=True, \n",
    "                           recurrent_initializer='glorot_uniform'), \n",
    "        tf.keras.layers.Dense(vocab_size)\n",
    "    ])\n",
    "    return model "
   ]
  },
  {
   "cell_type": "code",
   "execution_count": 42,
   "metadata": {},
   "outputs": [],
   "source": [
    "model = build_model(vocab_size=vocab_size, \n",
    "                    embedding_dim=embedding_dimensions, \n",
    "                    rnn_units=rnn_units, \n",
    "                    batch_size=BATCH_SIZE)"
   ]
  },
  {
   "cell_type": "code",
   "execution_count": 43,
   "metadata": {},
   "outputs": [
    {
     "name": "stdout",
     "output_type": "stream",
     "text": [
      "(64, 327, 326)\n"
     ]
    }
   ],
   "source": [
    "for input_example_batch, target_example_batch in batch.take(1): \n",
    "    example_predictions = model(input_example_batch) \n",
    "    print(example_predictions.shape)"
   ]
  },
  {
   "cell_type": "code",
   "execution_count": 18,
   "metadata": {},
   "outputs": [],
   "source": [
    "def loss(labels, logits): \n",
    "    return tf.keras.losses.sparse_categorical_crossentropy(labels, logits, from_logits=True) "
   ]
  },
  {
   "cell_type": "code",
   "execution_count": 17,
   "metadata": {},
   "outputs": [
    {
     "ename": "NameError",
     "evalue": "name 'target_example_batch' is not defined",
     "output_type": "error",
     "traceback": [
      "\u001b[0;31m---------------------------------------------------------------------------\u001b[0m",
      "\u001b[0;31mNameError\u001b[0m                                 Traceback (most recent call last)",
      "\u001b[0;32m<ipython-input-17-9283e513731d>\u001b[0m in \u001b[0;36m<module>\u001b[0;34m\u001b[0m\n\u001b[1;32m      2\u001b[0m     \u001b[0;32mreturn\u001b[0m \u001b[0mtf\u001b[0m\u001b[0;34m.\u001b[0m\u001b[0mkeras\u001b[0m\u001b[0;34m.\u001b[0m\u001b[0mlosses\u001b[0m\u001b[0;34m.\u001b[0m\u001b[0msparse_categorical_crossentropy\u001b[0m\u001b[0;34m(\u001b[0m\u001b[0mlabels\u001b[0m\u001b[0;34m,\u001b[0m \u001b[0mlogits\u001b[0m\u001b[0;34m,\u001b[0m \u001b[0mfrom_logits\u001b[0m\u001b[0;34m=\u001b[0m\u001b[0;32mTrue\u001b[0m\u001b[0;34m)\u001b[0m\u001b[0;34m\u001b[0m\u001b[0;34m\u001b[0m\u001b[0m\n\u001b[1;32m      3\u001b[0m \u001b[0;34m\u001b[0m\u001b[0m\n\u001b[0;32m----> 4\u001b[0;31m \u001b[0mexample_loss\u001b[0m \u001b[0;34m=\u001b[0m \u001b[0mloss\u001b[0m\u001b[0;34m(\u001b[0m\u001b[0mtarget_example_batch\u001b[0m\u001b[0;34m,\u001b[0m \u001b[0mexample_predictions\u001b[0m\u001b[0;34m)\u001b[0m\u001b[0;34m\u001b[0m\u001b[0;34m\u001b[0m\u001b[0m\n\u001b[0m",
      "\u001b[0;31mNameError\u001b[0m: name 'target_example_batch' is not defined"
     ]
    }
   ],
   "source": [
    "example_loss = loss(target_example_batch, example_predictions)"
   ]
  },
  {
   "cell_type": "code",
   "execution_count": 45,
   "metadata": {},
   "outputs": [],
   "source": [
    "model.compile(optimizer='adam', loss=loss)"
   ]
  },
  {
   "cell_type": "code",
   "execution_count": 46,
   "metadata": {},
   "outputs": [],
   "source": [
    "checkpoint_prefix = os.path.join(options.cache, \"ckpt_{epoch}\")\n",
    "# model.load_weights(tf.train.latest_checkpoint(checkpoint_dir=options.cache))\n",
    "\n",
    "checkpoint_callback = tf.keras.callbacks.ModelCheckpoint(\n",
    "    filepath=checkpoint_prefix, \n",
    "    save_weights_only= True\n",
    ")"
   ]
  },
  {
   "cell_type": "code",
   "execution_count": 47,
   "metadata": {},
   "outputs": [
    {
     "name": "stdout",
     "output_type": "stream",
     "text": [
      "Epoch 1/20\n",
      "86/86 [==============================] - 34s 395ms/step - loss: 2.0898\n",
      "Epoch 2/20\n",
      "86/86 [==============================] - 34s 398ms/step - loss: 1.3288\n",
      "Epoch 3/20\n",
      "86/86 [==============================] - 34s 398ms/step - loss: 1.1967\n",
      "Epoch 4/20\n",
      "86/86 [==============================] - 34s 398ms/step - loss: 1.0751\n",
      "Epoch 5/20\n",
      "86/86 [==============================] - 34s 398ms/step - loss: 0.9919\n",
      "Epoch 6/20\n",
      "86/86 [==============================] - 34s 400ms/step - loss: 0.9212\n",
      "Epoch 7/20\n",
      "86/86 [==============================] - 35s 404ms/step - loss: 0.8588\n",
      "Epoch 8/20\n",
      "86/86 [==============================] - 35s 404ms/step - loss: 0.8037\n",
      "Epoch 9/20\n",
      "86/86 [==============================] - 35s 405ms/step - loss: 0.7533\n",
      "Epoch 10/20\n",
      "86/86 [==============================] - 35s 405ms/step - loss: 0.7106\n",
      "Epoch 11/20\n",
      "86/86 [==============================] - 35s 403ms/step - loss: 0.6731\n",
      "Epoch 12/20\n",
      "86/86 [==============================] - 34s 400ms/step - loss: 0.6409\n",
      "Epoch 13/20\n",
      "86/86 [==============================] - 35s 402ms/step - loss: 0.6136\n",
      "Epoch 14/20\n",
      "86/86 [==============================] - 35s 402ms/step - loss: 0.5892\n",
      "Epoch 15/20\n",
      "86/86 [==============================] - 34s 400ms/step - loss: 0.5669\n",
      "Epoch 16/20\n",
      "86/86 [==============================] - 35s 401ms/step - loss: 0.5487\n",
      "Epoch 17/20\n",
      "86/86 [==============================] - 35s 403ms/step - loss: 0.5289\n",
      "Epoch 18/20\n",
      "86/86 [==============================] - 35s 405ms/step - loss: 0.5125\n",
      "Epoch 19/20\n",
      "86/86 [==============================] - 35s 403ms/step - loss: 0.4948\n",
      "Epoch 20/20\n",
      "86/86 [==============================] - 35s 402ms/step - loss: 0.4785\n"
     ]
    }
   ],
   "source": [
    "EPOCHS = 20\n",
    "history = model.fit(batch, epochs = EPOCHS, callbacks = [checkpoint_callback])"
   ]
  },
  {
   "cell_type": "code",
   "execution_count": 19,
   "metadata": {},
   "outputs": [],
   "source": [
    "model = build_model(vocab_size, embedding_dim=embedding_dimensions, \n",
    "                   rnn_units=rnn_units, batch_size=1)\n",
    "model.load_weights(tf.train.latest_checkpoint(checkpoint_dir=options.cache))\n",
    "model.build(tf.TensorShape([1, None]))"
   ]
  },
  {
   "cell_type": "code",
   "execution_count": 20,
   "metadata": {},
   "outputs": [
    {
     "name": "stdout",
     "output_type": "stream",
     "text": [
      "Model: \"sequential\"\n",
      "_________________________________________________________________\n",
      "Layer (type)                 Output Shape              Param #   \n",
      "=================================================================\n",
      "embedding (Embedding)        (1, None, 128)            41728     \n",
      "_________________________________________________________________\n",
      "gru (GRU)                    (1, None, 1024)           3545088   \n",
      "_________________________________________________________________\n",
      "dense (Dense)                (1, None, 326)            334150    \n",
      "=================================================================\n",
      "Total params: 3,920,966\n",
      "Trainable params: 3,920,966\n",
      "Non-trainable params: 0\n",
      "_________________________________________________________________\n"
     ]
    }
   ],
   "source": [
    "model.summary()"
   ]
  },
  {
   "cell_type": "code",
   "execution_count": 49,
   "metadata": {},
   "outputs": [],
   "source": [
    "def generate_text(model, start_string): \n",
    "    # generate characters \n",
    "    num_generate = sequence_length \n",
    "    \n",
    "    input_eval = [char2idx[s] for s in start_string] \n",
    "    input_eval = tf.expand_dims(input_eval, 0) \n",
    "    \n",
    "    text_generated = [] \n",
    "    \n",
    "    temperature = 1.0\n",
    "    model.reset_states() \n",
    "    \n",
    "    for i in range(num_generate): \n",
    "        predictions = model(input_eval) \n",
    "        predictions = tf.squeeze(predictions, 0) \n",
    "        \n",
    "        predictions = predictions / temperature \n",
    "        predicted_id = tf.random.categorical(predictions, num_samples = 1)[-1, 0].numpy() \n",
    "        \n",
    "        input_eval = tf.expand_dims([predicted_id], 0)\n",
    "        char = idx2char[predicted_id - 1]\n",
    "        if char == None: \n",
    "            char = \"\" \n",
    "        text_generated.append(char)\n",
    "        \n",
    "    return (start_string + ''.join(text_generated)) \n"
   ]
  },
  {
   "cell_type": "code",
   "execution_count": 50,
   "metadata": {},
   "outputs": [
    {
     "data": {
      "text/plain": [
       "'\"\\u20668🚨✓\\u2069چ🤡صMظ❣✓Y×🇺इ𝘃“0🚨✓a⚙➡4💯⚙्▶➡נ▶⚙🥳ك❣ह4×ò✓🇺غ⚙4💯🇲➡🇺🤔צò🇲े“הU✓⚙🇺✓tx“▶✓➡ז🤗×oیT✓🥳✓🇺✍.ی🥳➡🥳📌י🥳🥳✓✓-🇲ז_✓י✓े“✓S✓🇺j✓[ख.✓י🥳کف‘🇲🇲⚙➡कؤ✓ー✓🇲➡4🏈⚙श🇺ز6✍S✓י✓ò🇺4🤔ك🥳य✓✓ك🥳w➡ò➡🥳🇺Rw✓✓5%⚙➡ेك×🥳🇺🥳🇺🙄🇺✓🏈♀➡✓ک🤔➡❣U🇺💯🇲➡’🥳🥳हיH💤🥳4cלय️4🥳🥳a4✓✓oòहण🥳ध🦅➡✓🥳य⚙U🇺ك➡✓🇳f🇺🙄🇺🥳🏼R✓⚙◦🙄كکיwיे✓✓✓ک🇺ò⚙➡✓ك✓ط✓🇺.✓🙄🥳طय🇺➡“🙄य✓🤔🇲ー4ר➡יw✓🙄⚙🙄كmנ9י4S🇺🤔⚙🥳▶🇲ك5ध🙄🥳🇺🇳×0⚙ ➡U4🥳ع4ب🇺🙄R➡l3✓🇺ह➡f🥳Oय\\u2069🙄🥳U_U'"
      ]
     },
     "execution_count": 50,
     "metadata": {},
     "output_type": "execute_result"
    }
   ],
   "source": [
    "\n",
    "generate_text(model, start_string='\"')"
   ]
  },
  {
   "cell_type": "code",
   "execution_count": 266,
   "metadata": {},
   "outputs": [],
   "source": [
    "from collections import Counter\n",
    "counter = Counter() \n",
    "for k in numerics: \n",
    "    counter.update(k) \n",
    "    "
   ]
  },
  {
   "cell_type": "code",
   "execution_count": null,
   "metadata": {},
   "outputs": [],
   "source": []
  }
 ],
 "metadata": {
  "kernelspec": {
   "display_name": "Python 3",
   "language": "python",
   "name": "python3"
  },
  "language_info": {
   "codemirror_mode": {
    "name": "ipython",
    "version": 3
   },
   "file_extension": ".py",
   "mimetype": "text/x-python",
   "name": "python",
   "nbconvert_exporter": "python",
   "pygments_lexer": "ipython3",
   "version": "3.7.7"
  }
 },
 "nbformat": 4,
 "nbformat_minor": 4
}
